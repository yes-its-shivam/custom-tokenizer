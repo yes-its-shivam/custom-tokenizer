{
 "cells": [
  {
   "cell_type": "code",
   "execution_count": null,
   "id": "f56ede41",
   "metadata": {},
   "outputs": [],
   "source": [
    "!pip install tokenizers"
   ]
  },
  {
   "cell_type": "code",
   "execution_count": null,
   "id": "d0e6f2ad",
   "metadata": {},
   "outputs": [],
   "source": [
    "from tokenizers import models\n",
    "from tokenizers import decoders\n",
    "from tokenizers import Tokenizer\n",
    "from tokenizers import trainers\n",
    "from tokenizers import processors\n",
    "\n",
    "from tokenizers import normalizers\n",
    "from tokenizers import pre_tokenizers\n",
    "from transformers import PreTrainedTokenizerFast\n",
    "\n",
    "tokenizer = Tokenizer(models.WordPiece(unk_token='[UNK]'))\n",
    "\n",
    "#normalization( NFKD Unicode normalization )\n",
    "tokenizer.normalizer = normalizers.Sequence(\n",
    "    [normalizers.Lowercase(), normalizers.NFKD()]\n",
    ")\n",
    "#Pre-Tokenization: In pre-tokenization component we will be broken from string of text into tokens.\n",
    "tokenizer.pre_tokenizer = pre_tokenizers.Whitespace()\n",
    "\n",
    "#training the tokenizer\n",
    "#hyper params\n",
    "trainer = trainers.WordPieceTrainer(\n",
    "    vocab_size=30000,\n",
    "    special_tokens=['[UNK]', '[PAD]', '[CLS]', '[SEP]', '[MASK]'],\n",
    "    min_frequency=2,\n",
    "    continuing_subword_prefix='##'\n",
    ")\n",
    "#training\n",
    "tokenizer.train_from_iterator(iter(\"\"\"list containing language sentences\"\"\"), trainer=trainer)\n",
    "\n",
    "\n",
    "#post tokenization processing\n",
    "cls_id = tokenizer.token_to_id('[CLS]')\n",
    "sep_id = tokenizer.token_to_id('[SEP]')\n",
    "\n",
    "#post processing step\n",
    "tokenizer.post_processor = processors.TemplateProcessing(\n",
    "    single=f'[CLS]:0 $A:0 [SEP]:0',\n",
    "    pair=f'[CLS]:0 $A:0 [SEP]:0 $B:1 [SEP]:1',\n",
    "    special_tokens=[\n",
    "        ('[CLS]', cls_id),\n",
    "        ('[SEP]', sep_id)\n",
    "    ]\n",
    ")\n",
    "\n",
    "#extra decoding layer\n",
    "tokenizer.decoder = decoders.WordPiece(prefix='##')\n",
    "\n",
    "\n",
    "#saving the model to desired directory\n",
    "\n",
    "# load the tokenizer in a transformers tokenizer instance\n",
    "tokenizer = PreTrainedTokenizerFast(\n",
    "    tokenizer_object=tokenizer,\n",
    "    unk_token='[UNK]',\n",
    "    pad_token='[PAD]',\n",
    "    cls_token='[CLS]',\n",
    "    sep_token='[SEP]',\n",
    "    mask_token='[MASK]'\n",
    ")\n",
    "\n",
    "# save the tokenizer\n",
    "tokenizer.save_pretrained('bert-base-dv')\n",
    "\n",
    "#load the saved model\n",
    "tokenizer = PreTrainedTokenizerFast.from_pretrained('bert-base-dv')"
   ]
  },
  {
   "cell_type": "code",
   "execution_count": null,
   "id": "981c855d",
   "metadata": {},
   "outputs": [],
   "source": []
  }
 ],
 "metadata": {
  "kernelspec": {
   "display_name": "Python 3 (ipykernel)",
   "language": "python",
   "name": "python3"
  },
  "language_info": {
   "codemirror_mode": {
    "name": "ipython",
    "version": 3
   },
   "file_extension": ".py",
   "mimetype": "text/x-python",
   "name": "python",
   "nbconvert_exporter": "python",
   "pygments_lexer": "ipython3",
   "version": "3.9.12"
  }
 },
 "nbformat": 4,
 "nbformat_minor": 5
}
